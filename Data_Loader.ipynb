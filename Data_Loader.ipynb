{
 "cells": [
  {
   "cell_type": "code",
   "execution_count": 61,
   "metadata": {},
   "outputs": [],
   "source": [
    "import torch\n",
    "import pydicom\n",
    "import pandas as pd\n",
    "import numpy as np\n",
    "import os\n",
    "import pickle\n",
    "import pydicom\n",
    "import matplotlib.pyplot as plt"
   ]
  },
  {
   "cell_type": "code",
   "execution_count": 67,
   "metadata": {},
   "outputs": [
    {
     "data": {
      "text/plain": [
       "284"
      ]
     },
     "execution_count": 67,
     "metadata": {},
     "output_type": "execute_result"
    }
   ],
   "source": [
    "trainFile = \"D:\\\\CBIS-DDSM\\calc_case_description_test_set.csv\"\n",
    "\n",
    "pwd = os.getcwd()\n",
    "os.chdir(os.path.dirname(trainFile))\n",
    "trainData = pd.read_csv(os.path.basename(trainFile))\n",
    "os.chdir(\"../\")\n",
    "\n",
    "trainData.dropna(inplace=True,how='all')\n",
    "trainData['label'] = 0\n",
    "trainData.loc[trainData['pathology'] == 'MALIGNANT','label'] = 1\n",
    "pickle.dump(trainData,open(os.path.basename(trainFile)[:-4]+\".pkl\",\"wb\"))\n",
    "\n",
    "len(trainData)"
   ]
  },
  {
   "cell_type": "code",
   "execution_count": 69,
   "metadata": {},
   "outputs": [
    {
     "data": {
      "text/html": [
       "<div>\n",
       "<style scoped>\n",
       "    .dataframe tbody tr th:only-of-type {\n",
       "        vertical-align: middle;\n",
       "    }\n",
       "\n",
       "    .dataframe tbody tr th {\n",
       "        vertical-align: top;\n",
       "    }\n",
       "\n",
       "    .dataframe thead th {\n",
       "        text-align: right;\n",
       "    }\n",
       "</style>\n",
       "<table border=\"1\" class=\"dataframe\">\n",
       "  <thead>\n",
       "    <tr style=\"text-align: right;\">\n",
       "      <th></th>\n",
       "      <th>patient_id</th>\n",
       "      <th>breast density</th>\n",
       "      <th>left or right breast</th>\n",
       "      <th>image view</th>\n",
       "      <th>abnormality id</th>\n",
       "      <th>abnormality type</th>\n",
       "      <th>calc type</th>\n",
       "      <th>calc distribution</th>\n",
       "      <th>assessment</th>\n",
       "      <th>pathology</th>\n",
       "      <th>subtlety</th>\n",
       "      <th>image file path</th>\n",
       "      <th>cropped image file path</th>\n",
       "      <th>ROI mask file path</th>\n",
       "      <th>label</th>\n",
       "    </tr>\n",
       "  </thead>\n",
       "  <tbody>\n",
       "    <tr>\n",
       "      <th>0</th>\n",
       "      <td>P_00038</td>\n",
       "      <td>2.0</td>\n",
       "      <td>LEFT</td>\n",
       "      <td>CC</td>\n",
       "      <td>1.0</td>\n",
       "      <td>calcification</td>\n",
       "      <td>PUNCTATE-PLEOMORPHIC</td>\n",
       "      <td>CLUSTERED</td>\n",
       "      <td>4.0</td>\n",
       "      <td>BENIGN</td>\n",
       "      <td>2.0</td>\n",
       "      <td>CBIS-DDSM/Calc-Test_P_00038_LEFT_CC/08-29-2017...</td>\n",
       "      <td>CBIS-DDSM/Calc-Test_P_00038_LEFT_CC_1/08-29-20...</td>\n",
       "      <td>CBIS-DDSM/Calc-Test_P_00038_LEFT_CC_1/08-29-20...</td>\n",
       "      <td>0</td>\n",
       "    </tr>\n",
       "    <tr>\n",
       "      <th>1</th>\n",
       "      <td>P_00038</td>\n",
       "      <td>2.0</td>\n",
       "      <td>LEFT</td>\n",
       "      <td>MLO</td>\n",
       "      <td>1.0</td>\n",
       "      <td>calcification</td>\n",
       "      <td>PUNCTATE-PLEOMORPHIC</td>\n",
       "      <td>CLUSTERED</td>\n",
       "      <td>4.0</td>\n",
       "      <td>BENIGN</td>\n",
       "      <td>2.0</td>\n",
       "      <td>CBIS-DDSM/Calc-Test_P_00038_LEFT_MLO/08-29-201...</td>\n",
       "      <td>CBIS-DDSM/Calc-Test_P_00038_LEFT_MLO_1/08-29-2...</td>\n",
       "      <td>CBIS-DDSM/Calc-Test_P_00038_LEFT_MLO_1/08-29-2...</td>\n",
       "      <td>0</td>\n",
       "    </tr>\n",
       "    <tr>\n",
       "      <th>2</th>\n",
       "      <td>P_00038</td>\n",
       "      <td>2.0</td>\n",
       "      <td>RIGHT</td>\n",
       "      <td>CC</td>\n",
       "      <td>1.0</td>\n",
       "      <td>calcification</td>\n",
       "      <td>VASCULAR</td>\n",
       "      <td>NaN</td>\n",
       "      <td>2.0</td>\n",
       "      <td>BENIGN_WITHOUT_CALLBACK</td>\n",
       "      <td>5.0</td>\n",
       "      <td>CBIS-DDSM/Calc-Test_P_00038_RIGHT_CC/08-29-201...</td>\n",
       "      <td>CBIS-DDSM/Calc-Test_P_00038_RIGHT_CC_1/08-29-2...</td>\n",
       "      <td>CBIS-DDSM/Calc-Test_P_00038_RIGHT_CC_1/08-29-2...</td>\n",
       "      <td>0</td>\n",
       "    </tr>\n",
       "    <tr>\n",
       "      <th>3</th>\n",
       "      <td>P_00038</td>\n",
       "      <td>2.0</td>\n",
       "      <td>RIGHT</td>\n",
       "      <td>MLO</td>\n",
       "      <td>1.0</td>\n",
       "      <td>calcification</td>\n",
       "      <td>VASCULAR</td>\n",
       "      <td>NaN</td>\n",
       "      <td>2.0</td>\n",
       "      <td>BENIGN_WITHOUT_CALLBACK</td>\n",
       "      <td>5.0</td>\n",
       "      <td>CBIS-DDSM/Calc-Test_P_00038_RIGHT_MLO/08-29-20...</td>\n",
       "      <td>CBIS-DDSM/Calc-Test_P_00038_RIGHT_MLO_1/08-29-...</td>\n",
       "      <td>CBIS-DDSM/Calc-Test_P_00038_RIGHT_MLO_1/08-29-...</td>\n",
       "      <td>0</td>\n",
       "    </tr>\n",
       "    <tr>\n",
       "      <th>4</th>\n",
       "      <td>P_00041</td>\n",
       "      <td>1.0</td>\n",
       "      <td>LEFT</td>\n",
       "      <td>CC</td>\n",
       "      <td>2.0</td>\n",
       "      <td>calcification</td>\n",
       "      <td>LUCENT_CENTER</td>\n",
       "      <td>NaN</td>\n",
       "      <td>2.0</td>\n",
       "      <td>BENIGN_WITHOUT_CALLBACK</td>\n",
       "      <td>5.0</td>\n",
       "      <td>CBIS-DDSM/Calc-Test_P_00041_LEFT_CC/08-29-2017...</td>\n",
       "      <td>CBIS-DDSM/Calc-Test_P_00041_LEFT_CC_2/08-29-20...</td>\n",
       "      <td>CBIS-DDSM/Calc-Test_P_00041_LEFT_CC_2/08-29-20...</td>\n",
       "      <td>0</td>\n",
       "    </tr>\n",
       "  </tbody>\n",
       "</table>\n",
       "</div>"
      ],
      "text/plain": [
       "  patient_id  breast density left or right breast image view  abnormality id  \\\n",
       "0    P_00038             2.0                 LEFT         CC             1.0   \n",
       "1    P_00038             2.0                 LEFT        MLO             1.0   \n",
       "2    P_00038             2.0                RIGHT         CC             1.0   \n",
       "3    P_00038             2.0                RIGHT        MLO             1.0   \n",
       "4    P_00041             1.0                 LEFT         CC             2.0   \n",
       "\n",
       "  abnormality type             calc type calc distribution  assessment  \\\n",
       "0    calcification  PUNCTATE-PLEOMORPHIC         CLUSTERED         4.0   \n",
       "1    calcification  PUNCTATE-PLEOMORPHIC         CLUSTERED         4.0   \n",
       "2    calcification              VASCULAR               NaN         2.0   \n",
       "3    calcification              VASCULAR               NaN         2.0   \n",
       "4    calcification         LUCENT_CENTER               NaN         2.0   \n",
       "\n",
       "                 pathology  subtlety  \\\n",
       "0                   BENIGN       2.0   \n",
       "1                   BENIGN       2.0   \n",
       "2  BENIGN_WITHOUT_CALLBACK       5.0   \n",
       "3  BENIGN_WITHOUT_CALLBACK       5.0   \n",
       "4  BENIGN_WITHOUT_CALLBACK       5.0   \n",
       "\n",
       "                                     image file path  \\\n",
       "0  CBIS-DDSM/Calc-Test_P_00038_LEFT_CC/08-29-2017...   \n",
       "1  CBIS-DDSM/Calc-Test_P_00038_LEFT_MLO/08-29-201...   \n",
       "2  CBIS-DDSM/Calc-Test_P_00038_RIGHT_CC/08-29-201...   \n",
       "3  CBIS-DDSM/Calc-Test_P_00038_RIGHT_MLO/08-29-20...   \n",
       "4  CBIS-DDSM/Calc-Test_P_00041_LEFT_CC/08-29-2017...   \n",
       "\n",
       "                             cropped image file path  \\\n",
       "0  CBIS-DDSM/Calc-Test_P_00038_LEFT_CC_1/08-29-20...   \n",
       "1  CBIS-DDSM/Calc-Test_P_00038_LEFT_MLO_1/08-29-2...   \n",
       "2  CBIS-DDSM/Calc-Test_P_00038_RIGHT_CC_1/08-29-2...   \n",
       "3  CBIS-DDSM/Calc-Test_P_00038_RIGHT_MLO_1/08-29-...   \n",
       "4  CBIS-DDSM/Calc-Test_P_00041_LEFT_CC_2/08-29-20...   \n",
       "\n",
       "                                  ROI mask file path  label  \n",
       "0  CBIS-DDSM/Calc-Test_P_00038_LEFT_CC_1/08-29-20...      0  \n",
       "1  CBIS-DDSM/Calc-Test_P_00038_LEFT_MLO_1/08-29-2...      0  \n",
       "2  CBIS-DDSM/Calc-Test_P_00038_RIGHT_CC_1/08-29-2...      0  \n",
       "3  CBIS-DDSM/Calc-Test_P_00038_RIGHT_MLO_1/08-29-...      0  \n",
       "4  CBIS-DDSM/Calc-Test_P_00041_LEFT_CC_2/08-29-20...      0  "
      ]
     },
     "execution_count": 69,
     "metadata": {},
     "output_type": "execute_result"
    }
   ],
   "source": [
    "trainData.head()"
   ]
  },
  {
   "cell_type": "code",
   "execution_count": 68,
   "metadata": {},
   "outputs": [
    {
     "data": {
      "text/plain": [
       "(4616, 3016)"
      ]
     },
     "execution_count": 68,
     "metadata": {},
     "output_type": "execute_result"
    }
   ],
   "source": [
    "ds = pydicom.dcmread(trainData['image file path'].loc[0])\n",
    "ds.pixel_array.shape"
   ]
  },
  {
   "cell_type": "code",
   "execution_count": 39,
   "metadata": {},
   "outputs": [
    {
     "data": {
      "text/plain": [
       "<matplotlib.image.AxesImage at 0x236994280f0>"
      ]
     },
     "execution_count": 39,
     "metadata": {},
     "output_type": "execute_result"
    },
    {
     "data": {
      "image/png": "[encoded data removed]",
      "text/plain": [
       "<Figure size 432x288 with 1 Axes>"
      ]
     },
     "metadata": {},
     "output_type": "display_data"
    }
   ],
   "source": [
    "\n",
    "plt.imshow(ds.pixel_array, cmap=plt.cm.bone) "
   ]
  },
  {
   "cell_type": "code",
   "execution_count": 15,
   "metadata": {},
   "outputs": [],
   "source": [
    "from skimage import io, transform\n",
    "from torch.utils.data import Dataset, DataLoader\n",
    "\n",
    "class CBISDDSMDataset(Dataset):\n",
    "    \"\"\"Face Landmarks dataset.\"\"\"\n",
    "\n",
    "    def __init__(self, csv_file, root_dir, transform=None):\n",
    "        \"\"\"\n",
    "        Args:\n",
    "            csv_file (string): Path to the csv file with annotations.\n",
    "            root_dir (string): Directory with all the images.\n",
    "            transform (callable, optional): Optional transform to be applied\n",
    "                on a sample.\n",
    "        \"\"\"\n",
    "        self.CBISDDSM_frame = pd.read_csv(csv_file)\n",
    "        self.root_dir = root_dir\n",
    "        self.transform = transform\n",
    "\n",
    "    def __len__(self):\n",
    "        return len(self.CBISDDSM_frame)\n",
    "\n",
    "    def __getitem__(self, idx):\n",
    "        img_name = os.path.join(self.root_dir,\n",
    "                                self.CBISDDSM_frame['image file path'].loc[idx])\n",
    "        ds = pydicom.dcmread(img_name)\n",
    "        sample = ds.pixel_array\n",
    "        if self.transform:\n",
    "            sample = self.transform(sample)\n",
    "        \n",
    "        return torch.from_numpy(np.float64(sample)).cuda()"
   ]
  },
  {
   "cell_type": "code",
   "execution_count": 16,
   "metadata": {},
   "outputs": [],
   "source": [
    "pwd = os.getcwd()\n",
    "CBIS_Dataset = CBISDDSMDataset(trainFile,pwd)"
   ]
  },
  {
   "cell_type": "code",
   "execution_count": 17,
   "metadata": {},
   "outputs": [
    {
     "data": {
      "text/plain": [
       "tensor([[38508., 38442., 38530.,  ...,     0.,     0.,     0.],\n",
       "        [38244., 38596., 37627.,  ...,     0.,     0.,     0.],\n",
       "        [39080., 39851., 39080.,  ...,     0.,     0.,     0.],\n",
       "        ...,\n",
       "        [25804., 22612., 20410.,  ...,     0.,     0.,     0.],\n",
       "        [35668., 24990., 21819.,  ...,     0.,     0.,     0.],\n",
       "        [61780., 40027., 24791.,  ...,     0.,     0.,     0.]],\n",
       "       device='cuda:0', dtype=torch.float64)"
      ]
     },
     "execution_count": 17,
     "metadata": {},
     "output_type": "execute_result"
    }
   ],
   "source": [
    "CBIS_Dataset[0]"
   ]
  }
 ],
 "metadata": {
  "kernelspec": {
   "display_name": "Python 3",
   "language": "python",
   "name": "python3"
  },
  "language_info": {
   "codemirror_mode": {
    "name": "ipython",
    "version": 3
   },
   "file_extension": ".py",
   "mimetype": "text/x-python",
   "name": "python",
   "nbconvert_exporter": "python",
   "pygments_lexer": "ipython3",
   "version": "3.7.2"
  }
 },
 "nbformat": 4,
 "nbformat_minor": 2
}
